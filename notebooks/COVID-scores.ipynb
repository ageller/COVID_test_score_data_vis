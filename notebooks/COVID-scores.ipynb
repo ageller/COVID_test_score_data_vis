{
 "cells": [
  {
   "cell_type": "code",
   "execution_count": 62,
   "id": "ec518955",
   "metadata": {},
   "outputs": [],
   "source": [
    "import numpy as np\n",
    "import pandas as pd\n",
    "import glob \n",
    "from matplotlib import pyplot as plt \n",
    "plt.style.use('ggplot')\n",
    "import seaborn as sns\n",
    "import plotly.express as px\n",
    "\n",
    "px.defaults.template = \"presentation\""
   ]
  },
  {
   "cell_type": "code",
   "execution_count": 63,
   "id": "314760b1",
   "metadata": {},
   "outputs": [],
   "source": [
    "path = 'data/*.csv'\n",
    "files = glob.glob(path)\n",
    "datas = []\n",
    "for file in files:\n",
    "    datas.append(pd.read_csv(file))"
   ]
  },
  {
   "cell_type": "code",
   "execution_count": 64,
   "id": "662ad4cf",
   "metadata": {},
   "outputs": [
    {
     "data": {
      "text/plain": [
       "['data/seda2023_state_poolsub_ys_updated_20240205.csv',\n",
       " 'data/seda2023_admindist_poolsub_ys_updated_20240205.csv']"
      ]
     },
     "execution_count": 64,
     "metadata": {},
     "output_type": "execute_result"
    }
   ],
   "source": [
    "files"
   ]
  },
  {
   "cell_type": "markdown",
   "id": "200ae586",
   "metadata": {},
   "source": [
    "Documentation: https://docs.google.com/spreadsheets/d/1SXoVcTiJaGTHacg_xFOqFcxJjMSdrkoGDD7D9SaRNmA/edit#gid=94402853"
   ]
  },
  {
   "cell_type": "code",
   "execution_count": 65,
   "id": "2bea6716",
   "metadata": {},
   "outputs": [],
   "source": [
    "data = datas[0]"
   ]
  },
  {
   "cell_type": "code",
   "execution_count": 66,
   "id": "287270b8",
   "metadata": {},
   "outputs": [
    {
     "data": {
      "text/html": [
       "<div>\n",
       "<style scoped>\n",
       "    .dataframe tbody tr th:only-of-type {\n",
       "        vertical-align: middle;\n",
       "    }\n",
       "\n",
       "    .dataframe tbody tr th {\n",
       "        vertical-align: top;\n",
       "    }\n",
       "\n",
       "    .dataframe thead th {\n",
       "        text-align: right;\n",
       "    }\n",
       "</style>\n",
       "<table border=\"1\" class=\"dataframe\">\n",
       "  <thead>\n",
       "    <tr style=\"text-align: right;\">\n",
       "      <th></th>\n",
       "      <th>sedafips</th>\n",
       "      <th>fips</th>\n",
       "      <th>stateabb</th>\n",
       "      <th>sedafipsname</th>\n",
       "      <th>subject</th>\n",
       "      <th>subgroup</th>\n",
       "      <th>ys_mn_2016_ol</th>\n",
       "      <th>ys_mn_2016_ol_se_adj</th>\n",
       "      <th>ys_mn_2016_eb</th>\n",
       "      <th>ys_mn_2016_eb_se_adj</th>\n",
       "      <th>...</th>\n",
       "      <th>tot_2022</th>\n",
       "      <th>tot_2023</th>\n",
       "      <th>cell_2016</th>\n",
       "      <th>cell_2017</th>\n",
       "      <th>cell_2018</th>\n",
       "      <th>cell_2019</th>\n",
       "      <th>cell_2022</th>\n",
       "      <th>cell_2023</th>\n",
       "      <th>flag_estasmt2022</th>\n",
       "      <th>flag_estasmt2023</th>\n",
       "    </tr>\n",
       "  </thead>\n",
       "  <tbody>\n",
       "    <tr>\n",
       "      <th>0</th>\n",
       "      <td>1</td>\n",
       "      <td>1</td>\n",
       "      <td>AL</td>\n",
       "      <td>Alabama</td>\n",
       "      <td>mth</td>\n",
       "      <td>all</td>\n",
       "      <td>-0.272921</td>\n",
       "      <td>0.015098</td>\n",
       "      <td>-0.276134</td>\n",
       "      <td>0.012707</td>\n",
       "      <td>...</td>\n",
       "      <td>334284.0</td>\n",
       "      <td>336744.0</td>\n",
       "      <td>6.0</td>\n",
       "      <td>6.0</td>\n",
       "      <td>6.0</td>\n",
       "      <td>6.0</td>\n",
       "      <td>6.0</td>\n",
       "      <td>6.0</td>\n",
       "      <td>1</td>\n",
       "      <td>1.0</td>\n",
       "    </tr>\n",
       "    <tr>\n",
       "      <th>1</th>\n",
       "      <td>1</td>\n",
       "      <td>1</td>\n",
       "      <td>AL</td>\n",
       "      <td>Alabama</td>\n",
       "      <td>mth</td>\n",
       "      <td>blk</td>\n",
       "      <td>-0.676346</td>\n",
       "      <td>0.015363</td>\n",
       "      <td>-0.678782</td>\n",
       "      <td>0.013117</td>\n",
       "      <td>...</td>\n",
       "      <td>108446.0</td>\n",
       "      <td>109524.0</td>\n",
       "      <td>6.0</td>\n",
       "      <td>6.0</td>\n",
       "      <td>6.0</td>\n",
       "      <td>6.0</td>\n",
       "      <td>6.0</td>\n",
       "      <td>6.0</td>\n",
       "      <td>1</td>\n",
       "      <td>1.0</td>\n",
       "    </tr>\n",
       "    <tr>\n",
       "      <th>2</th>\n",
       "      <td>1</td>\n",
       "      <td>1</td>\n",
       "      <td>AL</td>\n",
       "      <td>Alabama</td>\n",
       "      <td>mth</td>\n",
       "      <td>hsp</td>\n",
       "      <td>-0.494112</td>\n",
       "      <td>0.016268</td>\n",
       "      <td>-0.496646</td>\n",
       "      <td>0.012588</td>\n",
       "      <td>...</td>\n",
       "      <td>34597.0</td>\n",
       "      <td>34903.0</td>\n",
       "      <td>6.0</td>\n",
       "      <td>6.0</td>\n",
       "      <td>6.0</td>\n",
       "      <td>6.0</td>\n",
       "      <td>6.0</td>\n",
       "      <td>6.0</td>\n",
       "      <td>1</td>\n",
       "      <td>1.0</td>\n",
       "    </tr>\n",
       "    <tr>\n",
       "      <th>3</th>\n",
       "      <td>1</td>\n",
       "      <td>1</td>\n",
       "      <td>AL</td>\n",
       "      <td>Alabama</td>\n",
       "      <td>mth</td>\n",
       "      <td>wht</td>\n",
       "      <td>-0.032735</td>\n",
       "      <td>0.015264</td>\n",
       "      <td>-0.040208</td>\n",
       "      <td>0.011673</td>\n",
       "      <td>...</td>\n",
       "      <td>173083.0</td>\n",
       "      <td>174069.0</td>\n",
       "      <td>6.0</td>\n",
       "      <td>6.0</td>\n",
       "      <td>6.0</td>\n",
       "      <td>6.0</td>\n",
       "      <td>6.0</td>\n",
       "      <td>6.0</td>\n",
       "      <td>1</td>\n",
       "      <td>1.0</td>\n",
       "    </tr>\n",
       "    <tr>\n",
       "      <th>4</th>\n",
       "      <td>1</td>\n",
       "      <td>1</td>\n",
       "      <td>AL</td>\n",
       "      <td>Alabama</td>\n",
       "      <td>rla</td>\n",
       "      <td>all</td>\n",
       "      <td>-0.070439</td>\n",
       "      <td>0.016367</td>\n",
       "      <td>-0.072882</td>\n",
       "      <td>0.012990</td>\n",
       "      <td>...</td>\n",
       "      <td>334283.0</td>\n",
       "      <td>NaN</td>\n",
       "      <td>6.0</td>\n",
       "      <td>6.0</td>\n",
       "      <td>6.0</td>\n",
       "      <td>6.0</td>\n",
       "      <td>6.0</td>\n",
       "      <td>NaN</td>\n",
       "      <td>1</td>\n",
       "      <td>NaN</td>\n",
       "    </tr>\n",
       "    <tr>\n",
       "      <th>...</th>\n",
       "      <td>...</td>\n",
       "      <td>...</td>\n",
       "      <td>...</td>\n",
       "      <td>...</td>\n",
       "      <td>...</td>\n",
       "      <td>...</td>\n",
       "      <td>...</td>\n",
       "      <td>...</td>\n",
       "      <td>...</td>\n",
       "      <td>...</td>\n",
       "      <td>...</td>\n",
       "      <td>...</td>\n",
       "      <td>...</td>\n",
       "      <td>...</td>\n",
       "      <td>...</td>\n",
       "      <td>...</td>\n",
       "      <td>...</td>\n",
       "      <td>...</td>\n",
       "      <td>...</td>\n",
       "      <td>...</td>\n",
       "      <td>...</td>\n",
       "    </tr>\n",
       "    <tr>\n",
       "      <th>351</th>\n",
       "      <td>56</td>\n",
       "      <td>56</td>\n",
       "      <td>WY</td>\n",
       "      <td>Wyoming</td>\n",
       "      <td>rla</td>\n",
       "      <td>blk</td>\n",
       "      <td>-0.063673</td>\n",
       "      <td>0.042599</td>\n",
       "      <td>-0.078313</td>\n",
       "      <td>0.027972</td>\n",
       "      <td>...</td>\n",
       "      <td>377.0</td>\n",
       "      <td>379.0</td>\n",
       "      <td>6.0</td>\n",
       "      <td>6.0</td>\n",
       "      <td>6.0</td>\n",
       "      <td>6.0</td>\n",
       "      <td>6.0</td>\n",
       "      <td>6.0</td>\n",
       "      <td>1</td>\n",
       "      <td>1.0</td>\n",
       "    </tr>\n",
       "    <tr>\n",
       "      <th>352</th>\n",
       "      <td>56</td>\n",
       "      <td>56</td>\n",
       "      <td>WY</td>\n",
       "      <td>Wyoming</td>\n",
       "      <td>rla</td>\n",
       "      <td>ecd</td>\n",
       "      <td>-0.088234</td>\n",
       "      <td>0.012355</td>\n",
       "      <td>-0.075580</td>\n",
       "      <td>0.010734</td>\n",
       "      <td>...</td>\n",
       "      <td>12479.0</td>\n",
       "      <td>12714.0</td>\n",
       "      <td>6.0</td>\n",
       "      <td>6.0</td>\n",
       "      <td>6.0</td>\n",
       "      <td>6.0</td>\n",
       "      <td>6.0</td>\n",
       "      <td>6.0</td>\n",
       "      <td>1</td>\n",
       "      <td>1.0</td>\n",
       "    </tr>\n",
       "    <tr>\n",
       "      <th>353</th>\n",
       "      <td>56</td>\n",
       "      <td>56</td>\n",
       "      <td>WY</td>\n",
       "      <td>Wyoming</td>\n",
       "      <td>rla</td>\n",
       "      <td>hsp</td>\n",
       "      <td>-0.133958</td>\n",
       "      <td>0.015435</td>\n",
       "      <td>-0.126248</td>\n",
       "      <td>0.012689</td>\n",
       "      <td>...</td>\n",
       "      <td>6184.0</td>\n",
       "      <td>6225.0</td>\n",
       "      <td>6.0</td>\n",
       "      <td>6.0</td>\n",
       "      <td>6.0</td>\n",
       "      <td>6.0</td>\n",
       "      <td>6.0</td>\n",
       "      <td>6.0</td>\n",
       "      <td>1</td>\n",
       "      <td>1.0</td>\n",
       "    </tr>\n",
       "    <tr>\n",
       "      <th>354</th>\n",
       "      <td>56</td>\n",
       "      <td>56</td>\n",
       "      <td>WY</td>\n",
       "      <td>Wyoming</td>\n",
       "      <td>rla</td>\n",
       "      <td>nec</td>\n",
       "      <td>0.400843</td>\n",
       "      <td>0.011540</td>\n",
       "      <td>0.326189</td>\n",
       "      <td>0.009263</td>\n",
       "      <td>...</td>\n",
       "      <td>30143.0</td>\n",
       "      <td>30073.0</td>\n",
       "      <td>6.0</td>\n",
       "      <td>6.0</td>\n",
       "      <td>6.0</td>\n",
       "      <td>6.0</td>\n",
       "      <td>6.0</td>\n",
       "      <td>6.0</td>\n",
       "      <td>1</td>\n",
       "      <td>1.0</td>\n",
       "    </tr>\n",
       "    <tr>\n",
       "      <th>355</th>\n",
       "      <td>56</td>\n",
       "      <td>56</td>\n",
       "      <td>WY</td>\n",
       "      <td>Wyoming</td>\n",
       "      <td>rla</td>\n",
       "      <td>wht</td>\n",
       "      <td>0.303708</td>\n",
       "      <td>0.011262</td>\n",
       "      <td>0.298940</td>\n",
       "      <td>0.008988</td>\n",
       "      <td>...</td>\n",
       "      <td>32709.0</td>\n",
       "      <td>32805.0</td>\n",
       "      <td>6.0</td>\n",
       "      <td>6.0</td>\n",
       "      <td>6.0</td>\n",
       "      <td>6.0</td>\n",
       "      <td>6.0</td>\n",
       "      <td>6.0</td>\n",
       "      <td>1</td>\n",
       "      <td>1.0</td>\n",
       "    </tr>\n",
       "  </tbody>\n",
       "</table>\n",
       "<p>356 rows × 62 columns</p>\n",
       "</div>"
      ],
      "text/plain": [
       "     sedafips  fips stateabb sedafipsname subject subgroup  ys_mn_2016_ol  \\\n",
       "0           1     1       AL      Alabama     mth      all      -0.272921   \n",
       "1           1     1       AL      Alabama     mth      blk      -0.676346   \n",
       "2           1     1       AL      Alabama     mth      hsp      -0.494112   \n",
       "3           1     1       AL      Alabama     mth      wht      -0.032735   \n",
       "4           1     1       AL      Alabama     rla      all      -0.070439   \n",
       "..        ...   ...      ...          ...     ...      ...            ...   \n",
       "351        56    56       WY      Wyoming     rla      blk      -0.063673   \n",
       "352        56    56       WY      Wyoming     rla      ecd      -0.088234   \n",
       "353        56    56       WY      Wyoming     rla      hsp      -0.133958   \n",
       "354        56    56       WY      Wyoming     rla      nec       0.400843   \n",
       "355        56    56       WY      Wyoming     rla      wht       0.303708   \n",
       "\n",
       "     ys_mn_2016_ol_se_adj  ys_mn_2016_eb  ys_mn_2016_eb_se_adj  ...  tot_2022  \\\n",
       "0                0.015098      -0.276134              0.012707  ...  334284.0   \n",
       "1                0.015363      -0.678782              0.013117  ...  108446.0   \n",
       "2                0.016268      -0.496646              0.012588  ...   34597.0   \n",
       "3                0.015264      -0.040208              0.011673  ...  173083.0   \n",
       "4                0.016367      -0.072882              0.012990  ...  334283.0   \n",
       "..                    ...            ...                   ...  ...       ...   \n",
       "351              0.042599      -0.078313              0.027972  ...     377.0   \n",
       "352              0.012355      -0.075580              0.010734  ...   12479.0   \n",
       "353              0.015435      -0.126248              0.012689  ...    6184.0   \n",
       "354              0.011540       0.326189              0.009263  ...   30143.0   \n",
       "355              0.011262       0.298940              0.008988  ...   32709.0   \n",
       "\n",
       "     tot_2023  cell_2016  cell_2017  cell_2018  cell_2019  cell_2022  \\\n",
       "0    336744.0        6.0        6.0        6.0        6.0        6.0   \n",
       "1    109524.0        6.0        6.0        6.0        6.0        6.0   \n",
       "2     34903.0        6.0        6.0        6.0        6.0        6.0   \n",
       "3    174069.0        6.0        6.0        6.0        6.0        6.0   \n",
       "4         NaN        6.0        6.0        6.0        6.0        6.0   \n",
       "..        ...        ...        ...        ...        ...        ...   \n",
       "351     379.0        6.0        6.0        6.0        6.0        6.0   \n",
       "352   12714.0        6.0        6.0        6.0        6.0        6.0   \n",
       "353    6225.0        6.0        6.0        6.0        6.0        6.0   \n",
       "354   30073.0        6.0        6.0        6.0        6.0        6.0   \n",
       "355   32805.0        6.0        6.0        6.0        6.0        6.0   \n",
       "\n",
       "     cell_2023  flag_estasmt2022  flag_estasmt2023  \n",
       "0          6.0                 1               1.0  \n",
       "1          6.0                 1               1.0  \n",
       "2          6.0                 1               1.0  \n",
       "3          6.0                 1               1.0  \n",
       "4          NaN                 1               NaN  \n",
       "..         ...               ...               ...  \n",
       "351        6.0                 1               1.0  \n",
       "352        6.0                 1               1.0  \n",
       "353        6.0                 1               1.0  \n",
       "354        6.0                 1               1.0  \n",
       "355        6.0                 1               1.0  \n",
       "\n",
       "[356 rows x 62 columns]"
      ]
     },
     "execution_count": 66,
     "metadata": {},
     "output_type": "execute_result"
    }
   ],
   "source": [
    "data"
   ]
  },
  {
   "cell_type": "code",
   "execution_count": 67,
   "id": "7687cbf1",
   "metadata": {},
   "outputs": [],
   "source": [
    "import plotly.graph_objects as go\n"
   ]
  },
  {
   "cell_type": "markdown",
   "id": "5841b9e8",
   "metadata": {},
   "source": [
    "For One State"
   ]
  },
  {
   "cell_type": "code",
   "execution_count": 68,
   "id": "13f3e90c",
   "metadata": {},
   "outputs": [],
   "source": [
    "def get_state_plot(state_df):\n",
    "    state_df = state_df[state_df.subgroup!='all']\n",
    "    pre_ys,post_ys = [], []\n",
    "    pre_yerrs,post_yerrs = [], []\n",
    "    subgroups = []\n",
    "    state_df = state_df[state_df.subject =='mth']\n",
    "    \n",
    "    #GET COVID CHANGE\n",
    "    for subgroup in state_df.subgroup.unique():\n",
    "        subgroups.append(subgroup)\n",
    "        sub = state_df[state_df.subgroup == subgroup]\n",
    "        pre_y = sub.loc[:,sub.columns.isin(['ys_mn_2019_ol'])].values[0]\n",
    "        post_y = sub.loc[:,sub.columns.isin(['ys_mn_2022_ol'])].values[0]\n",
    "        pre_ys.append(pre_y)\n",
    "        post_ys.append(post_y)\n",
    "\n",
    "        pre_yerr = sub.loc[:,sub.columns.isin(['ys_mn_2019_ol_se_adj'])].values[0]\n",
    "        post_yerr = sub.loc[:,sub.columns.isin(['ys_mn_2022_ol_se_adj'])].values[0]\n",
    "        pre_yerrs.append(pre_yerr)\n",
    "        post_yerrs.append(post_yerr)\n",
    "    \n",
    "    \n",
    "    pre_ys , post_ys = np.array(pre_ys), np.array(post_ys)\n",
    "    pre_yerrs, post_yerrs = np.array(pre_yerrs),np.array(post_yerrs)\n",
    "    change = np.array(post_ys)-np.array(pre_ys)\n",
    "    change_errs = np.abs(change)*(np.sqrt((pre_yerrs/pre_ys)**2+(post_yerrs/post_ys)**2))\n",
    "    #reshape\n",
    "    size = state_df.subgroup.nunique()\n",
    "    change = change.reshape(size)\n",
    "    change_errs = change_errs.reshape(size)\n",
    "     \n",
    "    fig = go.Figure()\n",
    "    colors = ['blue' if x >= 0 else 'red' for x in change]\n",
    "\n",
    "    # Add bar trace with error bars\n",
    "    fig.add_trace(go.Bar(\n",
    "    x=subgroups,\n",
    "    y=change,\n",
    "    marker_color=colors,\n",
    "    error_y=dict(type='data', array=np.array(change_errs), visible=True, color = 'white'),\n",
    "    ))\n",
    "\n",
    "    # Update layout for better visibility\n",
    "    fig.update_layout(\n",
    "    \n",
    "    \n",
    "    yaxis_title='Avg. Math Score',\n",
    "    showlegend=False,  # Hide legend as color indicates direction\n",
    "    )\n",
    "    # choose the figure font\n",
    "    font_dict=dict(family='Arial',\n",
    "               size=26,\n",
    "               color='black'\n",
    "               )\n",
    "    # general figure formatting\n",
    "    fig.update_layout(font=font_dict,  # font formatting\n",
    "                  plot_bgcolor='black',  # background color\n",
    "                 # figure height \n",
    "                  )\n",
    "\n",
    "    return fig\n"
   ]
  },
  {
   "cell_type": "code",
   "execution_count": null,
   "id": "8c66c5ef",
   "metadata": {},
   "outputs": [],
   "source": []
  },
  {
   "cell_type": "code",
   "execution_count": 69,
   "id": "2c5bf245",
   "metadata": {},
   "outputs": [
    {
     "data": {
      "application/vnd.plotly.v1+json": {
       "config": {
        "plotlyServerURL": "https://plot.ly"
       },
       "data": [
        {
         "error_y": {
          "array": [
           0.007388695695637859,
           0.009218378967826088,
           0.013485459185756802,
           0.007998758383649086,
           0.004033331516832518
          ],
          "color": "white",
          "type": "data",
          "visible": true
         },
         "marker": {
          "color": [
           "red",
           "red",
           "red",
           "red",
           "red"
          ]
         },
         "type": "bar",
         "x": [
          "blk",
          "ecd",
          "hsp",
          "nec",
          "wht"
         ],
         "y": [
          -0.13551993070537838,
          -0.1118579413748505,
          -0.12099854806953281,
          -0.07451300264062577,
          -0.025947898709863387
         ]
        }
       ],
       "layout": {
        "autosize": true,
        "font": {
         "color": "black",
         "family": "Arial",
         "size": 26
        },
        "plot_bgcolor": "black",
        "showlegend": false,
        "template": {
         "data": {
          "bar": [
           {
            "error_x": {
             "color": "#2a3f5f"
            },
            "error_y": {
             "color": "#2a3f5f"
            },
            "marker": {
             "line": {
              "color": "#E5ECF6",
              "width": 0.5
             },
             "pattern": {
              "fillmode": "overlay",
              "size": 10,
              "solidity": 0.2
             }
            },
            "type": "bar"
           }
          ],
          "barpolar": [
           {
            "marker": {
             "line": {
              "color": "#E5ECF6",
              "width": 0.5
             },
             "pattern": {
              "fillmode": "overlay",
              "size": 10,
              "solidity": 0.2
             }
            },
            "type": "barpolar"
           }
          ],
          "carpet": [
           {
            "aaxis": {
             "endlinecolor": "#2a3f5f",
             "gridcolor": "white",
             "linecolor": "white",
             "minorgridcolor": "white",
             "startlinecolor": "#2a3f5f"
            },
            "baxis": {
             "endlinecolor": "#2a3f5f",
             "gridcolor": "white",
             "linecolor": "white",
             "minorgridcolor": "white",
             "startlinecolor": "#2a3f5f"
            },
            "type": "carpet"
           }
          ],
          "choropleth": [
           {
            "colorbar": {
             "outlinewidth": 0,
             "ticks": ""
            },
            "type": "choropleth"
           }
          ],
          "contour": [
           {
            "colorbar": {
             "outlinewidth": 0,
             "ticks": ""
            },
            "colorscale": [
             [
              0,
              "#0d0887"
             ],
             [
              0.1111111111111111,
              "#46039f"
             ],
             [
              0.2222222222222222,
              "#7201a8"
             ],
             [
              0.3333333333333333,
              "#9c179e"
             ],
             [
              0.4444444444444444,
              "#bd3786"
             ],
             [
              0.5555555555555556,
              "#d8576b"
             ],
             [
              0.6666666666666666,
              "#ed7953"
             ],
             [
              0.7777777777777778,
              "#fb9f3a"
             ],
             [
              0.8888888888888888,
              "#fdca26"
             ],
             [
              1,
              "#f0f921"
             ]
            ],
            "type": "contour"
           }
          ],
          "contourcarpet": [
           {
            "colorbar": {
             "outlinewidth": 0,
             "ticks": ""
            },
            "type": "contourcarpet"
           }
          ],
          "heatmap": [
           {
            "colorbar": {
             "outlinewidth": 0,
             "ticks": ""
            },
            "colorscale": [
             [
              0,
              "#0d0887"
             ],
             [
              0.1111111111111111,
              "#46039f"
             ],
             [
              0.2222222222222222,
              "#7201a8"
             ],
             [
              0.3333333333333333,
              "#9c179e"
             ],
             [
              0.4444444444444444,
              "#bd3786"
             ],
             [
              0.5555555555555556,
              "#d8576b"
             ],
             [
              0.6666666666666666,
              "#ed7953"
             ],
             [
              0.7777777777777778,
              "#fb9f3a"
             ],
             [
              0.8888888888888888,
              "#fdca26"
             ],
             [
              1,
              "#f0f921"
             ]
            ],
            "type": "heatmap"
           }
          ],
          "heatmapgl": [
           {
            "colorbar": {
             "outlinewidth": 0,
             "ticks": ""
            },
            "colorscale": [
             [
              0,
              "#0d0887"
             ],
             [
              0.1111111111111111,
              "#46039f"
             ],
             [
              0.2222222222222222,
              "#7201a8"
             ],
             [
              0.3333333333333333,
              "#9c179e"
             ],
             [
              0.4444444444444444,
              "#bd3786"
             ],
             [
              0.5555555555555556,
              "#d8576b"
             ],
             [
              0.6666666666666666,
              "#ed7953"
             ],
             [
              0.7777777777777778,
              "#fb9f3a"
             ],
             [
              0.8888888888888888,
              "#fdca26"
             ],
             [
              1,
              "#f0f921"
             ]
            ],
            "type": "heatmapgl"
           }
          ],
          "histogram": [
           {
            "marker": {
             "pattern": {
              "fillmode": "overlay",
              "size": 10,
              "solidity": 0.2
             }
            },
            "type": "histogram"
           }
          ],
          "histogram2d": [
           {
            "colorbar": {
             "outlinewidth": 0,
             "ticks": ""
            },
            "colorscale": [
             [
              0,
              "#0d0887"
             ],
             [
              0.1111111111111111,
              "#46039f"
             ],
             [
              0.2222222222222222,
              "#7201a8"
             ],
             [
              0.3333333333333333,
              "#9c179e"
             ],
             [
              0.4444444444444444,
              "#bd3786"
             ],
             [
              0.5555555555555556,
              "#d8576b"
             ],
             [
              0.6666666666666666,
              "#ed7953"
             ],
             [
              0.7777777777777778,
              "#fb9f3a"
             ],
             [
              0.8888888888888888,
              "#fdca26"
             ],
             [
              1,
              "#f0f921"
             ]
            ],
            "type": "histogram2d"
           }
          ],
          "histogram2dcontour": [
           {
            "colorbar": {
             "outlinewidth": 0,
             "ticks": ""
            },
            "colorscale": [
             [
              0,
              "#0d0887"
             ],
             [
              0.1111111111111111,
              "#46039f"
             ],
             [
              0.2222222222222222,
              "#7201a8"
             ],
             [
              0.3333333333333333,
              "#9c179e"
             ],
             [
              0.4444444444444444,
              "#bd3786"
             ],
             [
              0.5555555555555556,
              "#d8576b"
             ],
             [
              0.6666666666666666,
              "#ed7953"
             ],
             [
              0.7777777777777778,
              "#fb9f3a"
             ],
             [
              0.8888888888888888,
              "#fdca26"
             ],
             [
              1,
              "#f0f921"
             ]
            ],
            "type": "histogram2dcontour"
           }
          ],
          "mesh3d": [
           {
            "colorbar": {
             "outlinewidth": 0,
             "ticks": ""
            },
            "type": "mesh3d"
           }
          ],
          "parcoords": [
           {
            "line": {
             "colorbar": {
              "outlinewidth": 0,
              "ticks": ""
             }
            },
            "type": "parcoords"
           }
          ],
          "pie": [
           {
            "automargin": true,
            "type": "pie"
           }
          ],
          "scatter": [
           {
            "fillpattern": {
             "fillmode": "overlay",
             "size": 10,
             "solidity": 0.2
            },
            "type": "scatter"
           }
          ],
          "scatter3d": [
           {
            "line": {
             "colorbar": {
              "outlinewidth": 0,
              "ticks": ""
             }
            },
            "marker": {
             "colorbar": {
              "outlinewidth": 0,
              "ticks": ""
             }
            },
            "type": "scatter3d"
           }
          ],
          "scattercarpet": [
           {
            "marker": {
             "colorbar": {
              "outlinewidth": 0,
              "ticks": ""
             }
            },
            "type": "scattercarpet"
           }
          ],
          "scattergeo": [
           {
            "marker": {
             "colorbar": {
              "outlinewidth": 0,
              "ticks": ""
             }
            },
            "type": "scattergeo"
           }
          ],
          "scattergl": [
           {
            "marker": {
             "colorbar": {
              "outlinewidth": 0,
              "ticks": ""
             }
            },
            "type": "scattergl"
           }
          ],
          "scattermapbox": [
           {
            "marker": {
             "colorbar": {
              "outlinewidth": 0,
              "ticks": ""
             }
            },
            "type": "scattermapbox"
           }
          ],
          "scatterpolar": [
           {
            "marker": {
             "colorbar": {
              "outlinewidth": 0,
              "ticks": ""
             }
            },
            "type": "scatterpolar"
           }
          ],
          "scatterpolargl": [
           {
            "marker": {
             "colorbar": {
              "outlinewidth": 0,
              "ticks": ""
             }
            },
            "type": "scatterpolargl"
           }
          ],
          "scatterternary": [
           {
            "marker": {
             "colorbar": {
              "outlinewidth": 0,
              "ticks": ""
             }
            },
            "type": "scatterternary"
           }
          ],
          "surface": [
           {
            "colorbar": {
             "outlinewidth": 0,
             "ticks": ""
            },
            "colorscale": [
             [
              0,
              "#0d0887"
             ],
             [
              0.1111111111111111,
              "#46039f"
             ],
             [
              0.2222222222222222,
              "#7201a8"
             ],
             [
              0.3333333333333333,
              "#9c179e"
             ],
             [
              0.4444444444444444,
              "#bd3786"
             ],
             [
              0.5555555555555556,
              "#d8576b"
             ],
             [
              0.6666666666666666,
              "#ed7953"
             ],
             [
              0.7777777777777778,
              "#fb9f3a"
             ],
             [
              0.8888888888888888,
              "#fdca26"
             ],
             [
              1,
              "#f0f921"
             ]
            ],
            "type": "surface"
           }
          ],
          "table": [
           {
            "cells": {
             "fill": {
              "color": "#EBF0F8"
             },
             "line": {
              "color": "white"
             }
            },
            "header": {
             "fill": {
              "color": "#C8D4E3"
             },
             "line": {
              "color": "white"
             }
            },
            "type": "table"
           }
          ]
         },
         "layout": {
          "annotationdefaults": {
           "arrowcolor": "#2a3f5f",
           "arrowhead": 0,
           "arrowwidth": 1
          },
          "autotypenumbers": "strict",
          "coloraxis": {
           "colorbar": {
            "outlinewidth": 0,
            "ticks": ""
           }
          },
          "colorscale": {
           "diverging": [
            [
             0,
             "#8e0152"
            ],
            [
             0.1,
             "#c51b7d"
            ],
            [
             0.2,
             "#de77ae"
            ],
            [
             0.3,
             "#f1b6da"
            ],
            [
             0.4,
             "#fde0ef"
            ],
            [
             0.5,
             "#f7f7f7"
            ],
            [
             0.6,
             "#e6f5d0"
            ],
            [
             0.7,
             "#b8e186"
            ],
            [
             0.8,
             "#7fbc41"
            ],
            [
             0.9,
             "#4d9221"
            ],
            [
             1,
             "#276419"
            ]
           ],
           "sequential": [
            [
             0,
             "#0d0887"
            ],
            [
             0.1111111111111111,
             "#46039f"
            ],
            [
             0.2222222222222222,
             "#7201a8"
            ],
            [
             0.3333333333333333,
             "#9c179e"
            ],
            [
             0.4444444444444444,
             "#bd3786"
            ],
            [
             0.5555555555555556,
             "#d8576b"
            ],
            [
             0.6666666666666666,
             "#ed7953"
            ],
            [
             0.7777777777777778,
             "#fb9f3a"
            ],
            [
             0.8888888888888888,
             "#fdca26"
            ],
            [
             1,
             "#f0f921"
            ]
           ],
           "sequentialminus": [
            [
             0,
             "#0d0887"
            ],
            [
             0.1111111111111111,
             "#46039f"
            ],
            [
             0.2222222222222222,
             "#7201a8"
            ],
            [
             0.3333333333333333,
             "#9c179e"
            ],
            [
             0.4444444444444444,
             "#bd3786"
            ],
            [
             0.5555555555555556,
             "#d8576b"
            ],
            [
             0.6666666666666666,
             "#ed7953"
            ],
            [
             0.7777777777777778,
             "#fb9f3a"
            ],
            [
             0.8888888888888888,
             "#fdca26"
            ],
            [
             1,
             "#f0f921"
            ]
           ]
          },
          "colorway": [
           "#636efa",
           "#EF553B",
           "#00cc96",
           "#ab63fa",
           "#FFA15A",
           "#19d3f3",
           "#FF6692",
           "#B6E880",
           "#FF97FF",
           "#FECB52"
          ],
          "font": {
           "color": "#2a3f5f"
          },
          "geo": {
           "bgcolor": "white",
           "lakecolor": "white",
           "landcolor": "#E5ECF6",
           "showlakes": true,
           "showland": true,
           "subunitcolor": "white"
          },
          "hoverlabel": {
           "align": "left"
          },
          "hovermode": "closest",
          "mapbox": {
           "style": "light"
          },
          "paper_bgcolor": "white",
          "plot_bgcolor": "#E5ECF6",
          "polar": {
           "angularaxis": {
            "gridcolor": "white",
            "linecolor": "white",
            "ticks": ""
           },
           "bgcolor": "#E5ECF6",
           "radialaxis": {
            "gridcolor": "white",
            "linecolor": "white",
            "ticks": ""
           }
          },
          "scene": {
           "xaxis": {
            "backgroundcolor": "#E5ECF6",
            "gridcolor": "white",
            "gridwidth": 2,
            "linecolor": "white",
            "showbackground": true,
            "ticks": "",
            "zerolinecolor": "white"
           },
           "yaxis": {
            "backgroundcolor": "#E5ECF6",
            "gridcolor": "white",
            "gridwidth": 2,
            "linecolor": "white",
            "showbackground": true,
            "ticks": "",
            "zerolinecolor": "white"
           },
           "zaxis": {
            "backgroundcolor": "#E5ECF6",
            "gridcolor": "white",
            "gridwidth": 2,
            "linecolor": "white",
            "showbackground": true,
            "ticks": "",
            "zerolinecolor": "white"
           }
          },
          "shapedefaults": {
           "line": {
            "color": "#2a3f5f"
           }
          },
          "ternary": {
           "aaxis": {
            "gridcolor": "white",
            "linecolor": "white",
            "ticks": ""
           },
           "baxis": {
            "gridcolor": "white",
            "linecolor": "white",
            "ticks": ""
           },
           "bgcolor": "#E5ECF6",
           "caxis": {
            "gridcolor": "white",
            "linecolor": "white",
            "ticks": ""
           }
          },
          "title": {
           "x": 0.05
          },
          "xaxis": {
           "automargin": true,
           "gridcolor": "white",
           "linecolor": "white",
           "ticks": "",
           "title": {
            "standoff": 15
           },
           "zerolinecolor": "white",
           "zerolinewidth": 2
          },
          "yaxis": {
           "automargin": true,
           "gridcolor": "white",
           "linecolor": "white",
           "ticks": "",
           "title": {
            "standoff": 15
           },
           "zerolinecolor": "white",
           "zerolinewidth": 2
          }
         }
        },
        "xaxis": {
         "autorange": true,
         "range": [
          -0.5,
          4.5
         ],
         "type": "category"
        },
        "yaxis": {
         "autorange": true,
         "range": [
          -0.1504301330537013,
          0
         ],
         "title": {
          "text": "Avg. Math Score"
         },
         "type": "linear"
        }
       }
      },
      "image/png": "[encoded data removed]",
      "text/html": [
       "<div>                            <div id=\"d089a9d2-d7d8-478e-8f9b-32f14e973e73\" class=\"plotly-graph-div\" style=\"height:525px; width:100%;\"></div>            <script type=\"text/javascript\">                require([\"plotly\"], function(Plotly) {                    window.PLOTLYENV=window.PLOTLYENV || {};                                    if (document.getElementById(\"d089a9d2-d7d8-478e-8f9b-32f14e973e73\")) {                    Plotly.newPlot(                        \"d089a9d2-d7d8-478e-8f9b-32f14e973e73\",                        [{\"error_y\":{\"array\":[0.007388695695637859,0.009218378967826088,0.013485459185756802,0.007998758383649086,0.004033331516832518],\"color\":\"white\",\"type\":\"data\",\"visible\":true},\"marker\":{\"color\":[\"red\",\"red\",\"red\",\"red\",\"red\"]},\"x\":[\"blk\",\"ecd\",\"hsp\",\"nec\",\"wht\"],\"y\":[-0.13551993070537838,-0.1118579413748505,-0.12099854806953281,-0.07451300264062577,-0.025947898709863387],\"type\":\"bar\"}],                        {\"template\":{\"data\":{\"histogram2dcontour\":[{\"type\":\"histogram2dcontour\",\"colorbar\":{\"outlinewidth\":0,\"ticks\":\"\"},\"colorscale\":[[0.0,\"#0d0887\"],[0.1111111111111111,\"#46039f\"],[0.2222222222222222,\"#7201a8\"],[0.3333333333333333,\"#9c179e\"],[0.4444444444444444,\"#bd3786\"],[0.5555555555555556,\"#d8576b\"],[0.6666666666666666,\"#ed7953\"],[0.7777777777777778,\"#fb9f3a\"],[0.8888888888888888,\"#fdca26\"],[1.0,\"#f0f921\"]]}],\"choropleth\":[{\"type\":\"choropleth\",\"colorbar\":{\"outlinewidth\":0,\"ticks\":\"\"}}],\"histogram2d\":[{\"type\":\"histogram2d\",\"colorbar\":{\"outlinewidth\":0,\"ticks\":\"\"},\"colorscale\":[[0.0,\"#0d0887\"],[0.1111111111111111,\"#46039f\"],[0.2222222222222222,\"#7201a8\"],[0.3333333333333333,\"#9c179e\"],[0.4444444444444444,\"#bd3786\"],[0.5555555555555556,\"#d8576b\"],[0.6666666666666666,\"#ed7953\"],[0.7777777777777778,\"#fb9f3a\"],[0.8888888888888888,\"#fdca26\"],[1.0,\"#f0f921\"]]}],\"heatmap\":[{\"type\":\"heatmap\",\"colorbar\":{\"outlinewidth\":0,\"ticks\":\"\"},\"colorscale\":[[0.0,\"#0d0887\"],[0.1111111111111111,\"#46039f\"],[0.2222222222222222,\"#7201a8\"],[0.3333333333333333,\"#9c179e\"],[0.4444444444444444,\"#bd3786\"],[0.5555555555555556,\"#d8576b\"],[0.6666666666666666,\"#ed7953\"],[0.7777777777777778,\"#fb9f3a\"],[0.8888888888888888,\"#fdca26\"],[1.0,\"#f0f921\"]]}],\"heatmapgl\":[{\"type\":\"heatmapgl\",\"colorbar\":{\"outlinewidth\":0,\"ticks\":\"\"},\"colorscale\":[[0.0,\"#0d0887\"],[0.1111111111111111,\"#46039f\"],[0.2222222222222222,\"#7201a8\"],[0.3333333333333333,\"#9c179e\"],[0.4444444444444444,\"#bd3786\"],[0.5555555555555556,\"#d8576b\"],[0.6666666666666666,\"#ed7953\"],[0.7777777777777778,\"#fb9f3a\"],[0.8888888888888888,\"#fdca26\"],[1.0,\"#f0f921\"]]}],\"contourcarpet\":[{\"type\":\"contourcarpet\",\"colorbar\":{\"outlinewidth\":0,\"ticks\":\"\"}}],\"contour\":[{\"type\":\"contour\",\"colorbar\":{\"outlinewidth\":0,\"ticks\":\"\"},\"colorscale\":[[0.0,\"#0d0887\"],[0.1111111111111111,\"#46039f\"],[0.2222222222222222,\"#7201a8\"],[0.3333333333333333,\"#9c179e\"],[0.4444444444444444,\"#bd3786\"],[0.5555555555555556,\"#d8576b\"],[0.6666666666666666,\"#ed7953\"],[0.7777777777777778,\"#fb9f3a\"],[0.8888888888888888,\"#fdca26\"],[1.0,\"#f0f921\"]]}],\"surface\":[{\"type\":\"surface\",\"colorbar\":{\"outlinewidth\":0,\"ticks\":\"\"},\"colorscale\":[[0.0,\"#0d0887\"],[0.1111111111111111,\"#46039f\"],[0.2222222222222222,\"#7201a8\"],[0.3333333333333333,\"#9c179e\"],[0.4444444444444444,\"#bd3786\"],[0.5555555555555556,\"#d8576b\"],[0.6666666666666666,\"#ed7953\"],[0.7777777777777778,\"#fb9f3a\"],[0.8888888888888888,\"#fdca26\"],[1.0,\"#f0f921\"]]}],\"mesh3d\":[{\"type\":\"mesh3d\",\"colorbar\":{\"outlinewidth\":0,\"ticks\":\"\"}}],\"scatter\":[{\"fillpattern\":{\"fillmode\":\"overlay\",\"size\":10,\"solidity\":0.2},\"type\":\"scatter\"}],\"parcoords\":[{\"type\":\"parcoords\",\"line\":{\"colorbar\":{\"outlinewidth\":0,\"ticks\":\"\"}}}],\"scatterpolargl\":[{\"type\":\"scatterpolargl\",\"marker\":{\"colorbar\":{\"outlinewidth\":0,\"ticks\":\"\"}}}],\"bar\":[{\"error_x\":{\"color\":\"#2a3f5f\"},\"error_y\":{\"color\":\"#2a3f5f\"},\"marker\":{\"line\":{\"color\":\"#E5ECF6\",\"width\":0.5},\"pattern\":{\"fillmode\":\"overlay\",\"size\":10,\"solidity\":0.2}},\"type\":\"bar\"}],\"scattergeo\":[{\"type\":\"scattergeo\",\"marker\":{\"colorbar\":{\"outlinewidth\":0,\"ticks\":\"\"}}}],\"scatterpolar\":[{\"type\":\"scatterpolar\",\"marker\":{\"colorbar\":{\"outlinewidth\":0,\"ticks\":\"\"}}}],\"histogram\":[{\"marker\":{\"pattern\":{\"fillmode\":\"overlay\",\"size\":10,\"solidity\":0.2}},\"type\":\"histogram\"}],\"scattergl\":[{\"type\":\"scattergl\",\"marker\":{\"colorbar\":{\"outlinewidth\":0,\"ticks\":\"\"}}}],\"scatter3d\":[{\"type\":\"scatter3d\",\"line\":{\"colorbar\":{\"outlinewidth\":0,\"ticks\":\"\"}},\"marker\":{\"colorbar\":{\"outlinewidth\":0,\"ticks\":\"\"}}}],\"scattermapbox\":[{\"type\":\"scattermapbox\",\"marker\":{\"colorbar\":{\"outlinewidth\":0,\"ticks\":\"\"}}}],\"scatterternary\":[{\"type\":\"scatterternary\",\"marker\":{\"colorbar\":{\"outlinewidth\":0,\"ticks\":\"\"}}}],\"scattercarpet\":[{\"type\":\"scattercarpet\",\"marker\":{\"colorbar\":{\"outlinewidth\":0,\"ticks\":\"\"}}}],\"carpet\":[{\"aaxis\":{\"endlinecolor\":\"#2a3f5f\",\"gridcolor\":\"white\",\"linecolor\":\"white\",\"minorgridcolor\":\"white\",\"startlinecolor\":\"#2a3f5f\"},\"baxis\":{\"endlinecolor\":\"#2a3f5f\",\"gridcolor\":\"white\",\"linecolor\":\"white\",\"minorgridcolor\":\"white\",\"startlinecolor\":\"#2a3f5f\"},\"type\":\"carpet\"}],\"table\":[{\"cells\":{\"fill\":{\"color\":\"#EBF0F8\"},\"line\":{\"color\":\"white\"}},\"header\":{\"fill\":{\"color\":\"#C8D4E3\"},\"line\":{\"color\":\"white\"}},\"type\":\"table\"}],\"barpolar\":[{\"marker\":{\"line\":{\"color\":\"#E5ECF6\",\"width\":0.5},\"pattern\":{\"fillmode\":\"overlay\",\"size\":10,\"solidity\":0.2}},\"type\":\"barpolar\"}],\"pie\":[{\"automargin\":true,\"type\":\"pie\"}]},\"layout\":{\"autotypenumbers\":\"strict\",\"colorway\":[\"#636efa\",\"#EF553B\",\"#00cc96\",\"#ab63fa\",\"#FFA15A\",\"#19d3f3\",\"#FF6692\",\"#B6E880\",\"#FF97FF\",\"#FECB52\"],\"font\":{\"color\":\"#2a3f5f\"},\"hovermode\":\"closest\",\"hoverlabel\":{\"align\":\"left\"},\"paper_bgcolor\":\"white\",\"plot_bgcolor\":\"#E5ECF6\",\"polar\":{\"bgcolor\":\"#E5ECF6\",\"angularaxis\":{\"gridcolor\":\"white\",\"linecolor\":\"white\",\"ticks\":\"\"},\"radialaxis\":{\"gridcolor\":\"white\",\"linecolor\":\"white\",\"ticks\":\"\"}},\"ternary\":{\"bgcolor\":\"#E5ECF6\",\"aaxis\":{\"gridcolor\":\"white\",\"linecolor\":\"white\",\"ticks\":\"\"},\"baxis\":{\"gridcolor\":\"white\",\"linecolor\":\"white\",\"ticks\":\"\"},\"caxis\":{\"gridcolor\":\"white\",\"linecolor\":\"white\",\"ticks\":\"\"}},\"coloraxis\":{\"colorbar\":{\"outlinewidth\":0,\"ticks\":\"\"}},\"colorscale\":{\"sequential\":[[0.0,\"#0d0887\"],[0.1111111111111111,\"#46039f\"],[0.2222222222222222,\"#7201a8\"],[0.3333333333333333,\"#9c179e\"],[0.4444444444444444,\"#bd3786\"],[0.5555555555555556,\"#d8576b\"],[0.6666666666666666,\"#ed7953\"],[0.7777777777777778,\"#fb9f3a\"],[0.8888888888888888,\"#fdca26\"],[1.0,\"#f0f921\"]],\"sequentialminus\":[[0.0,\"#0d0887\"],[0.1111111111111111,\"#46039f\"],[0.2222222222222222,\"#7201a8\"],[0.3333333333333333,\"#9c179e\"],[0.4444444444444444,\"#bd3786\"],[0.5555555555555556,\"#d8576b\"],[0.6666666666666666,\"#ed7953\"],[0.7777777777777778,\"#fb9f3a\"],[0.8888888888888888,\"#fdca26\"],[1.0,\"#f0f921\"]],\"diverging\":[[0,\"#8e0152\"],[0.1,\"#c51b7d\"],[0.2,\"#de77ae\"],[0.3,\"#f1b6da\"],[0.4,\"#fde0ef\"],[0.5,\"#f7f7f7\"],[0.6,\"#e6f5d0\"],[0.7,\"#b8e186\"],[0.8,\"#7fbc41\"],[0.9,\"#4d9221\"],[1,\"#276419\"]]},\"xaxis\":{\"gridcolor\":\"white\",\"linecolor\":\"white\",\"ticks\":\"\",\"title\":{\"standoff\":15},\"zerolinecolor\":\"white\",\"automargin\":true,\"zerolinewidth\":2},\"yaxis\":{\"gridcolor\":\"white\",\"linecolor\":\"white\",\"ticks\":\"\",\"title\":{\"standoff\":15},\"zerolinecolor\":\"white\",\"automargin\":true,\"zerolinewidth\":2},\"scene\":{\"xaxis\":{\"backgroundcolor\":\"#E5ECF6\",\"gridcolor\":\"white\",\"linecolor\":\"white\",\"showbackground\":true,\"ticks\":\"\",\"zerolinecolor\":\"white\",\"gridwidth\":2},\"yaxis\":{\"backgroundcolor\":\"#E5ECF6\",\"gridcolor\":\"white\",\"linecolor\":\"white\",\"showbackground\":true,\"ticks\":\"\",\"zerolinecolor\":\"white\",\"gridwidth\":2},\"zaxis\":{\"backgroundcolor\":\"#E5ECF6\",\"gridcolor\":\"white\",\"linecolor\":\"white\",\"showbackground\":true,\"ticks\":\"\",\"zerolinecolor\":\"white\",\"gridwidth\":2}},\"shapedefaults\":{\"line\":{\"color\":\"#2a3f5f\"}},\"annotationdefaults\":{\"arrowcolor\":\"#2a3f5f\",\"arrowhead\":0,\"arrowwidth\":1},\"geo\":{\"bgcolor\":\"white\",\"landcolor\":\"#E5ECF6\",\"subunitcolor\":\"white\",\"showland\":true,\"showlakes\":true,\"lakecolor\":\"white\"},\"title\":{\"x\":0.05},\"mapbox\":{\"style\":\"light\"}}},\"yaxis\":{\"title\":{\"text\":\"Avg. Math Score\"}},\"showlegend\":false,\"font\":{\"family\":\"Arial\",\"size\":26,\"color\":\"black\"},\"plot_bgcolor\":\"black\"},                        {\"responsive\": true}                    ).then(function(){\n",
       "                            \n",
       "var gd = document.getElementById('d089a9d2-d7d8-478e-8f9b-32f14e973e73');\n",
       "var x = new MutationObserver(function (mutations, observer) {{\n",
       "        var display = window.getComputedStyle(gd).display;\n",
       "        if (!display || display === 'none') {{\n",
       "            console.log([gd, 'removed!']);\n",
       "            Plotly.purge(gd);\n",
       "            observer.disconnect();\n",
       "        }}\n",
       "}});\n",
       "\n",
       "// Listen for the removal of the full notebook cells\n",
       "var notebookContainer = gd.closest('#notebook-container');\n",
       "if (notebookContainer) {{\n",
       "    x.observe(notebookContainer, {childList: true});\n",
       "}}\n",
       "\n",
       "// Listen for the clearing of the current output cell\n",
       "var outputEl = gd.closest('.output');\n",
       "if (outputEl) {{\n",
       "    x.observe(outputEl, {childList: true});\n",
       "}}\n",
       "\n",
       "                        })                };                });            </script>        </div>"
      ]
     },
     "metadata": {},
     "output_type": "display_data"
    }
   ],
   "source": [
    "state_df = data[data.stateabb == 'IL']\n",
    "get_state_plot(state_df)"
   ]
  },
  {
   "cell_type": "code",
   "execution_count": 70,
   "id": "f3807dad",
   "metadata": {},
   "outputs": [
    {
     "data": {
      "text/html": [
       "<div>\n",
       "<style scoped>\n",
       "    .dataframe tbody tr th:only-of-type {\n",
       "        vertical-align: middle;\n",
       "    }\n",
       "\n",
       "    .dataframe tbody tr th {\n",
       "        vertical-align: top;\n",
       "    }\n",
       "\n",
       "    .dataframe thead th {\n",
       "        text-align: right;\n",
       "    }\n",
       "</style>\n",
       "<table border=\"1\" class=\"dataframe\">\n",
       "  <thead>\n",
       "    <tr style=\"text-align: right;\">\n",
       "      <th></th>\n",
       "      <th>sedafips</th>\n",
       "      <th>fips</th>\n",
       "      <th>stateabb</th>\n",
       "      <th>sedafipsname</th>\n",
       "      <th>subject</th>\n",
       "      <th>subgroup</th>\n",
       "      <th>ys_mn_2016_ol</th>\n",
       "      <th>ys_mn_2016_ol_se_adj</th>\n",
       "      <th>ys_mn_2016_eb</th>\n",
       "      <th>ys_mn_2016_eb_se_adj</th>\n",
       "      <th>...</th>\n",
       "      <th>tot_2022</th>\n",
       "      <th>tot_2023</th>\n",
       "      <th>cell_2016</th>\n",
       "      <th>cell_2017</th>\n",
       "      <th>cell_2018</th>\n",
       "      <th>cell_2019</th>\n",
       "      <th>cell_2022</th>\n",
       "      <th>cell_2023</th>\n",
       "      <th>flag_estasmt2022</th>\n",
       "      <th>flag_estasmt2023</th>\n",
       "    </tr>\n",
       "  </thead>\n",
       "  <tbody>\n",
       "    <tr>\n",
       "      <th>0</th>\n",
       "      <td>1</td>\n",
       "      <td>1</td>\n",
       "      <td>AL</td>\n",
       "      <td>Alabama</td>\n",
       "      <td>mth</td>\n",
       "      <td>all</td>\n",
       "      <td>-0.272921</td>\n",
       "      <td>0.015098</td>\n",
       "      <td>-0.276134</td>\n",
       "      <td>0.012707</td>\n",
       "      <td>...</td>\n",
       "      <td>334284.0</td>\n",
       "      <td>336744.0</td>\n",
       "      <td>6.0</td>\n",
       "      <td>6.0</td>\n",
       "      <td>6.0</td>\n",
       "      <td>6.0</td>\n",
       "      <td>6.0</td>\n",
       "      <td>6.0</td>\n",
       "      <td>1</td>\n",
       "      <td>1.0</td>\n",
       "    </tr>\n",
       "    <tr>\n",
       "      <th>1</th>\n",
       "      <td>1</td>\n",
       "      <td>1</td>\n",
       "      <td>AL</td>\n",
       "      <td>Alabama</td>\n",
       "      <td>mth</td>\n",
       "      <td>blk</td>\n",
       "      <td>-0.676346</td>\n",
       "      <td>0.015363</td>\n",
       "      <td>-0.678782</td>\n",
       "      <td>0.013117</td>\n",
       "      <td>...</td>\n",
       "      <td>108446.0</td>\n",
       "      <td>109524.0</td>\n",
       "      <td>6.0</td>\n",
       "      <td>6.0</td>\n",
       "      <td>6.0</td>\n",
       "      <td>6.0</td>\n",
       "      <td>6.0</td>\n",
       "      <td>6.0</td>\n",
       "      <td>1</td>\n",
       "      <td>1.0</td>\n",
       "    </tr>\n",
       "    <tr>\n",
       "      <th>2</th>\n",
       "      <td>1</td>\n",
       "      <td>1</td>\n",
       "      <td>AL</td>\n",
       "      <td>Alabama</td>\n",
       "      <td>mth</td>\n",
       "      <td>hsp</td>\n",
       "      <td>-0.494112</td>\n",
       "      <td>0.016268</td>\n",
       "      <td>-0.496646</td>\n",
       "      <td>0.012588</td>\n",
       "      <td>...</td>\n",
       "      <td>34597.0</td>\n",
       "      <td>34903.0</td>\n",
       "      <td>6.0</td>\n",
       "      <td>6.0</td>\n",
       "      <td>6.0</td>\n",
       "      <td>6.0</td>\n",
       "      <td>6.0</td>\n",
       "      <td>6.0</td>\n",
       "      <td>1</td>\n",
       "      <td>1.0</td>\n",
       "    </tr>\n",
       "    <tr>\n",
       "      <th>3</th>\n",
       "      <td>1</td>\n",
       "      <td>1</td>\n",
       "      <td>AL</td>\n",
       "      <td>Alabama</td>\n",
       "      <td>mth</td>\n",
       "      <td>wht</td>\n",
       "      <td>-0.032735</td>\n",
       "      <td>0.015264</td>\n",
       "      <td>-0.040208</td>\n",
       "      <td>0.011673</td>\n",
       "      <td>...</td>\n",
       "      <td>173083.0</td>\n",
       "      <td>174069.0</td>\n",
       "      <td>6.0</td>\n",
       "      <td>6.0</td>\n",
       "      <td>6.0</td>\n",
       "      <td>6.0</td>\n",
       "      <td>6.0</td>\n",
       "      <td>6.0</td>\n",
       "      <td>1</td>\n",
       "      <td>1.0</td>\n",
       "    </tr>\n",
       "    <tr>\n",
       "      <th>4</th>\n",
       "      <td>1</td>\n",
       "      <td>1</td>\n",
       "      <td>AL</td>\n",
       "      <td>Alabama</td>\n",
       "      <td>rla</td>\n",
       "      <td>all</td>\n",
       "      <td>-0.070439</td>\n",
       "      <td>0.016367</td>\n",
       "      <td>-0.072882</td>\n",
       "      <td>0.012990</td>\n",
       "      <td>...</td>\n",
       "      <td>334283.0</td>\n",
       "      <td>NaN</td>\n",
       "      <td>6.0</td>\n",
       "      <td>6.0</td>\n",
       "      <td>6.0</td>\n",
       "      <td>6.0</td>\n",
       "      <td>6.0</td>\n",
       "      <td>NaN</td>\n",
       "      <td>1</td>\n",
       "      <td>NaN</td>\n",
       "    </tr>\n",
       "    <tr>\n",
       "      <th>...</th>\n",
       "      <td>...</td>\n",
       "      <td>...</td>\n",
       "      <td>...</td>\n",
       "      <td>...</td>\n",
       "      <td>...</td>\n",
       "      <td>...</td>\n",
       "      <td>...</td>\n",
       "      <td>...</td>\n",
       "      <td>...</td>\n",
       "      <td>...</td>\n",
       "      <td>...</td>\n",
       "      <td>...</td>\n",
       "      <td>...</td>\n",
       "      <td>...</td>\n",
       "      <td>...</td>\n",
       "      <td>...</td>\n",
       "      <td>...</td>\n",
       "      <td>...</td>\n",
       "      <td>...</td>\n",
       "      <td>...</td>\n",
       "      <td>...</td>\n",
       "    </tr>\n",
       "    <tr>\n",
       "      <th>351</th>\n",
       "      <td>56</td>\n",
       "      <td>56</td>\n",
       "      <td>WY</td>\n",
       "      <td>Wyoming</td>\n",
       "      <td>rla</td>\n",
       "      <td>blk</td>\n",
       "      <td>-0.063673</td>\n",
       "      <td>0.042599</td>\n",
       "      <td>-0.078313</td>\n",
       "      <td>0.027972</td>\n",
       "      <td>...</td>\n",
       "      <td>377.0</td>\n",
       "      <td>379.0</td>\n",
       "      <td>6.0</td>\n",
       "      <td>6.0</td>\n",
       "      <td>6.0</td>\n",
       "      <td>6.0</td>\n",
       "      <td>6.0</td>\n",
       "      <td>6.0</td>\n",
       "      <td>1</td>\n",
       "      <td>1.0</td>\n",
       "    </tr>\n",
       "    <tr>\n",
       "      <th>352</th>\n",
       "      <td>56</td>\n",
       "      <td>56</td>\n",
       "      <td>WY</td>\n",
       "      <td>Wyoming</td>\n",
       "      <td>rla</td>\n",
       "      <td>ecd</td>\n",
       "      <td>-0.088234</td>\n",
       "      <td>0.012355</td>\n",
       "      <td>-0.075580</td>\n",
       "      <td>0.010734</td>\n",
       "      <td>...</td>\n",
       "      <td>12479.0</td>\n",
       "      <td>12714.0</td>\n",
       "      <td>6.0</td>\n",
       "      <td>6.0</td>\n",
       "      <td>6.0</td>\n",
       "      <td>6.0</td>\n",
       "      <td>6.0</td>\n",
       "      <td>6.0</td>\n",
       "      <td>1</td>\n",
       "      <td>1.0</td>\n",
       "    </tr>\n",
       "    <tr>\n",
       "      <th>353</th>\n",
       "      <td>56</td>\n",
       "      <td>56</td>\n",
       "      <td>WY</td>\n",
       "      <td>Wyoming</td>\n",
       "      <td>rla</td>\n",
       "      <td>hsp</td>\n",
       "      <td>-0.133958</td>\n",
       "      <td>0.015435</td>\n",
       "      <td>-0.126248</td>\n",
       "      <td>0.012689</td>\n",
       "      <td>...</td>\n",
       "      <td>6184.0</td>\n",
       "      <td>6225.0</td>\n",
       "      <td>6.0</td>\n",
       "      <td>6.0</td>\n",
       "      <td>6.0</td>\n",
       "      <td>6.0</td>\n",
       "      <td>6.0</td>\n",
       "      <td>6.0</td>\n",
       "      <td>1</td>\n",
       "      <td>1.0</td>\n",
       "    </tr>\n",
       "    <tr>\n",
       "      <th>354</th>\n",
       "      <td>56</td>\n",
       "      <td>56</td>\n",
       "      <td>WY</td>\n",
       "      <td>Wyoming</td>\n",
       "      <td>rla</td>\n",
       "      <td>nec</td>\n",
       "      <td>0.400843</td>\n",
       "      <td>0.011540</td>\n",
       "      <td>0.326189</td>\n",
       "      <td>0.009263</td>\n",
       "      <td>...</td>\n",
       "      <td>30143.0</td>\n",
       "      <td>30073.0</td>\n",
       "      <td>6.0</td>\n",
       "      <td>6.0</td>\n",
       "      <td>6.0</td>\n",
       "      <td>6.0</td>\n",
       "      <td>6.0</td>\n",
       "      <td>6.0</td>\n",
       "      <td>1</td>\n",
       "      <td>1.0</td>\n",
       "    </tr>\n",
       "    <tr>\n",
       "      <th>355</th>\n",
       "      <td>56</td>\n",
       "      <td>56</td>\n",
       "      <td>WY</td>\n",
       "      <td>Wyoming</td>\n",
       "      <td>rla</td>\n",
       "      <td>wht</td>\n",
       "      <td>0.303708</td>\n",
       "      <td>0.011262</td>\n",
       "      <td>0.298940</td>\n",
       "      <td>0.008988</td>\n",
       "      <td>...</td>\n",
       "      <td>32709.0</td>\n",
       "      <td>32805.0</td>\n",
       "      <td>6.0</td>\n",
       "      <td>6.0</td>\n",
       "      <td>6.0</td>\n",
       "      <td>6.0</td>\n",
       "      <td>6.0</td>\n",
       "      <td>6.0</td>\n",
       "      <td>1</td>\n",
       "      <td>1.0</td>\n",
       "    </tr>\n",
       "  </tbody>\n",
       "</table>\n",
       "<p>356 rows × 62 columns</p>\n",
       "</div>"
      ],
      "text/plain": [
       "     sedafips  fips stateabb sedafipsname subject subgroup  ys_mn_2016_ol  \\\n",
       "0           1     1       AL      Alabama     mth      all      -0.272921   \n",
       "1           1     1       AL      Alabama     mth      blk      -0.676346   \n",
       "2           1     1       AL      Alabama     mth      hsp      -0.494112   \n",
       "3           1     1       AL      Alabama     mth      wht      -0.032735   \n",
       "4           1     1       AL      Alabama     rla      all      -0.070439   \n",
       "..        ...   ...      ...          ...     ...      ...            ...   \n",
       "351        56    56       WY      Wyoming     rla      blk      -0.063673   \n",
       "352        56    56       WY      Wyoming     rla      ecd      -0.088234   \n",
       "353        56    56       WY      Wyoming     rla      hsp      -0.133958   \n",
       "354        56    56       WY      Wyoming     rla      nec       0.400843   \n",
       "355        56    56       WY      Wyoming     rla      wht       0.303708   \n",
       "\n",
       "     ys_mn_2016_ol_se_adj  ys_mn_2016_eb  ys_mn_2016_eb_se_adj  ...  tot_2022  \\\n",
       "0                0.015098      -0.276134              0.012707  ...  334284.0   \n",
       "1                0.015363      -0.678782              0.013117  ...  108446.0   \n",
       "2                0.016268      -0.496646              0.012588  ...   34597.0   \n",
       "3                0.015264      -0.040208              0.011673  ...  173083.0   \n",
       "4                0.016367      -0.072882              0.012990  ...  334283.0   \n",
       "..                    ...            ...                   ...  ...       ...   \n",
       "351              0.042599      -0.078313              0.027972  ...     377.0   \n",
       "352              0.012355      -0.075580              0.010734  ...   12479.0   \n",
       "353              0.015435      -0.126248              0.012689  ...    6184.0   \n",
       "354              0.011540       0.326189              0.009263  ...   30143.0   \n",
       "355              0.011262       0.298940              0.008988  ...   32709.0   \n",
       "\n",
       "     tot_2023  cell_2016  cell_2017  cell_2018  cell_2019  cell_2022  \\\n",
       "0    336744.0        6.0        6.0        6.0        6.0        6.0   \n",
       "1    109524.0        6.0        6.0        6.0        6.0        6.0   \n",
       "2     34903.0        6.0        6.0        6.0        6.0        6.0   \n",
       "3    174069.0        6.0        6.0        6.0        6.0        6.0   \n",
       "4         NaN        6.0        6.0        6.0        6.0        6.0   \n",
       "..        ...        ...        ...        ...        ...        ...   \n",
       "351     379.0        6.0        6.0        6.0        6.0        6.0   \n",
       "352   12714.0        6.0        6.0        6.0        6.0        6.0   \n",
       "353    6225.0        6.0        6.0        6.0        6.0        6.0   \n",
       "354   30073.0        6.0        6.0        6.0        6.0        6.0   \n",
       "355   32805.0        6.0        6.0        6.0        6.0        6.0   \n",
       "\n",
       "     cell_2023  flag_estasmt2022  flag_estasmt2023  \n",
       "0          6.0                 1               1.0  \n",
       "1          6.0                 1               1.0  \n",
       "2          6.0                 1               1.0  \n",
       "3          6.0                 1               1.0  \n",
       "4          NaN                 1               NaN  \n",
       "..         ...               ...               ...  \n",
       "351        6.0                 1               1.0  \n",
       "352        6.0                 1               1.0  \n",
       "353        6.0                 1               1.0  \n",
       "354        6.0                 1               1.0  \n",
       "355        6.0                 1               1.0  \n",
       "\n",
       "[356 rows x 62 columns]"
      ]
     },
     "execution_count": 70,
     "metadata": {},
     "output_type": "execute_result"
    }
   ],
   "source": [
    "data"
   ]
  },
  {
   "cell_type": "code",
   "execution_count": 72,
   "id": "97233537",
   "metadata": {},
   "outputs": [
    {
     "name": "stdout",
     "output_type": "stream",
     "text": [
      "Dash app running on http://127.0.0.1:8055/\n"
     ]
    },
    {
     "data": {
      "text/html": [
       "\n",
       "        <iframe\n",
       "            width=\"100%\"\n",
       "            height=\"650\"\n",
       "            src=\"http://127.0.0.1:8055/\"\n",
       "            frameborder=\"0\"\n",
       "            allowfullscreen\n",
       "            \n",
       "        ></iframe>\n",
       "        "
      ],
      "text/plain": [
       "<IPython.lib.display.IFrame at 0x16e873920>"
      ]
     },
     "metadata": {},
     "output_type": "display_data"
    }
   ],
   "source": [
    "from jupyter_dash import JupyterDash\n",
    "from dash import dcc, html\n",
    "from dash.dependencies import Input, Output\n",
    "import pandas as pd\n",
    "import plotly.express as px\n",
    "\n",
    "\n",
    "# Create Jupyter Dash app\n",
    "app = JupyterDash(__name__)\n",
    "\n",
    "# Define layout\n",
    "app.layout = html.Div([\n",
    "    html.H1(\"COVID effect on Test Scores 2019-2022\"),\n",
    "    \n",
    "    # Dropdown menu to select a state\n",
    "    dcc.Dropdown(\n",
    "        id='state-selector',\n",
    "        options=[{'label': state, 'value': state} for state in data['stateabb'].unique()],\n",
    "        value=data['stateabb'].unique()[0],\n",
    "        style={'width': '50%'}\n",
    "    ),\n",
    "    \n",
    "    # Plot space\n",
    "    dcc.Graph(id='state-plot')\n",
    "])\n",
    "\n",
    "# Define callback to update the plot based on selected state\n",
    "@app.callback(\n",
    "    Output('state-plot', 'figure'),\n",
    "    [Input('state-selector', 'value')]\n",
    ")\n",
    "def update_plot(selected_state):\n",
    "    filtered_data = data[data['stateabb'] == selected_state]\n",
    "    \n",
    "    return get_state_plot(filtered_data)\n",
    "\n",
    "# Run the app inline in the notebook\n",
    "app.run_server( host='127.0.0.1', port=8055)\n"
   ]
  },
  {
   "cell_type": "code",
   "execution_count": null,
   "id": "ef051ad3-4639-41e0-a15a-0af4cc23ca25",
   "metadata": {},
   "outputs": [],
   "source": []
  },
  {
   "cell_type": "code",
   "execution_count": null,
   "id": "31597dab-eb40-479c-8430-a839172963cd",
   "metadata": {},
   "outputs": [],
   "source": []
  },
  {
   "cell_type": "code",
   "execution_count": null,
   "id": "64975a12-7ce4-4b12-bf5c-695922f0e443",
   "metadata": {},
   "outputs": [],
   "source": []
  }
 ],
 "metadata": {
  "kernelspec": {
   "display_name": "Python 3 (ipykernel)",
   "language": "python",
   "name": "python3"
  },
  "language_info": {
   "codemirror_mode": {
    "name": "ipython",
    "version": 3
   },
   "file_extension": ".py",
   "mimetype": "text/x-python",
   "name": "python",
   "nbconvert_exporter": "python",
   "pygments_lexer": "ipython3",
   "version": "3.12.1"
  }
 },
 "nbformat": 4,
 "nbformat_minor": 5
}
